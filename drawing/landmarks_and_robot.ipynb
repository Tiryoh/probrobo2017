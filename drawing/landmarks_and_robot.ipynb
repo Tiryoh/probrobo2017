{
 "cells": [
  {
   "cell_type": "markdown",
   "metadata": {},
   "source": [
    "REF : https://github.com/ryuichiueda/probrobo2017/blob/master/04.ipynb"
   ]
  },
  {
   "cell_type": "code",
   "execution_count": 1,
   "metadata": {
    "collapsed": true
   },
   "outputs": [],
   "source": [
    "import random\n",
    "import math\n",
    "import numpy as np\n",
    "from matplotlib import pyplot as plt"
   ]
  },
  {
   "cell_type": "markdown",
   "metadata": {},
   "source": [
    "# Landmarks"
   ]
  },
  {
   "cell_type": "code",
   "execution_count": 2,
   "metadata": {
    "collapsed": true
   },
   "outputs": [],
   "source": [
    "actual_landmarks = [np.array([-0.5,0.0]),np.array([0.5,0.0]),np.array([0.0,0.5])]\n",
    "\n",
    "def draw_landmarks(landmarks):\n",
    "    xs = [ e[0] for e in landmarks]\n",
    "    ys = [ e[1] for e in landmarks]\n",
    "    plt.scatter(xs,ys,s=300,marker=\"*\",label=\"landmarks\",color=\"orange\")"
   ]
  },
  {
   "cell_type": "code",
   "execution_count": 3,
   "metadata": {
    "scrolled": false
   },
   "outputs": [
    {
     "data": {
      "image/png": "[encoded data removed]",
      "text/plain": [
       "<matplotlib.figure.Figure at 0x10c1e16d8>"
      ]
     },
     "metadata": {},
     "output_type": "display_data"
    }
   ],
   "source": [
    "fig, world = plt.subplots(figsize=(8, 8))\n",
    "draw_landmarks(actual_landmarks)\n",
    "plt.show()"
   ]
  },
  {
   "cell_type": "markdown",
   "metadata": {},
   "source": [
    "# Robot Position"
   ]
  },
  {
   "cell_type": "code",
   "execution_count": 4,
   "metadata": {
    "collapsed": true
   },
   "outputs": [],
   "source": [
    "actual_x = np.array([0.3, 0.2, np.deg2rad(20)])\n",
    "def draw_robot(pose):\n",
    "    plt.quiver([pose[0]],[pose[1]],[math.cos(pose[2])],[math.sin(pose[2])],color=\"red\",label=\"actual robot motion\")"
   ]
  },
  {
   "cell_type": "code",
   "execution_count": 5,
   "metadata": {},
   "outputs": [
    {
     "data": {
      "image/png": "[encoded data removed]",
      "text/plain": [
       "<matplotlib.figure.Figure at 0x10c6c24a8>"
      ]
     },
     "metadata": {},
     "output_type": "display_data"
    }
   ],
   "source": [
    "fig, world = plt.subplots(figsize=(8, 8))\n",
    "draw_robot(actual_x)\n",
    "draw_landmarks(actual_landmarks)\n",
    "plt.show()"
   ]
  },
  {
   "cell_type": "markdown",
   "metadata": {},
   "source": []
  },
  {
   "cell_type": "code",
   "execution_count": 6,
   "metadata": {
    "collapsed": true
   },
   "outputs": [],
   "source": [
    "def relative_landmark_pos(pose,landmark):\n",
    "    x, y, theta = pose\n",
    "    lx, ly = landmark\n",
    "    distance = math.sqrt((x - lx)**2 + (y - ly)**2)\n",
    "    direction = math.atan2(ly - y, lx - x) - theta\n",
    "    \n",
    "    return (distance, direction, lx, ly)"
   ]
  },
  {
   "cell_type": "code",
   "execution_count": 7,
   "metadata": {},
   "outputs": [
    {
     "name": "stdout",
     "output_type": "stream",
     "text": [
      "[(0.8246211251235323, -3.2456798408617948, -0.5, 0.0), (0.28284271247461906, -1.1344640137963142, 0.5, 0.0), (0.4242640687119285, 2.0071286397934789, 0.0, 0.5)]\n"
     ]
    }
   ],
   "source": [
    "measurements = [ relative_landmark_pos(actual_x,e) for e in actual_landmarks]\n",
    "print(measurements)"
   ]
  },
  {
   "cell_type": "code",
   "execution_count": 8,
   "metadata": {
    "collapsed": true
   },
   "outputs": [],
   "source": [
    "def draw_observation(pose, measurement):\n",
    "    x, y, theta = pose\n",
    "    distance, direction, lx, ly = measurement\n",
    "    lx = distance * math.cos(theta + direction) + x\n",
    "    ly = distance * math.sin(theta + direction) + y\n",
    "    plt.plot([pose[0], lx], [pose[1], ly], color=\"pink\")\n",
    "    \n",
    "def draw_observations(pose, measurements):\n",
    "    for m in measurements:\n",
    "        draw_observation(pose, m)"
   ]
  },
  {
   "cell_type": "code",
   "execution_count": 9,
   "metadata": {},
   "outputs": [
    {
     "data": {
      "image/png": "[encoded data removed]",
      "text/plain": [
       "<matplotlib.figure.Figure at 0x10c6de9b0>"
      ]
     },
     "metadata": {},
     "output_type": "display_data"
    }
   ],
   "source": [
    "fig, world = plt.subplots(figsize=(8, 8))\n",
    "draw_landmarks(actual_landmarks)\n",
    "draw_robot(actual_x)\n",
    "draw_observations(actual_x, measurements)\n",
    "plt.show()"
   ]
  },
  {
   "cell_type": "code",
   "execution_count": 10,
   "metadata": {
    "collapsed": true
   },
   "outputs": [],
   "source": [
    "def observation(pose, landmark):\n",
    "    actual_distance,actual_direction,lx,ly = relative_landmark_pos(pose,landmark)\n",
    "    if (math.cos(actual_direction) < 0.0):\n",
    "        return None\n",
    "    measured_distance = random.gauss(actual_distance, actual_distance * 0.1)\n",
    "    measured_direction = random.gauss(actual_direction, np.deg2rad(5))\n",
    "    return (measured_distance, measured_direction, lx, ly)\n",
    "\n",
    "def observations(pose, landmarks):\n",
    "    measurements = []\n",
    "    for landmark in landmarks:\n",
    "        measurement = observation(pose, landmark)\n",
    "        if measurement == None:\n",
    "            pass\n",
    "        else:\n",
    "            measurements.append(measurement)\n",
    "    return measurements"
   ]
  },
  {
   "cell_type": "code",
   "execution_count": 11,
   "metadata": {},
   "outputs": [
    {
     "data": {
      "image/png": "[encoded data removed]",
      "text/plain": [
       "<matplotlib.figure.Figure at 0x10c83f6d8>"
      ]
     },
     "metadata": {},
     "output_type": "display_data"
    }
   ],
   "source": [
    "fig, world = plt.subplots(figsize=(8, 8))\n",
    "actual_x = np.array([0.1,0.1,np.deg2rad(150)])\n",
    "measurements = observations(actual_x, actual_landmarks)\n",
    "\n",
    "draw_landmarks(actual_landmarks)\n",
    "draw_robot(actual_x)\n",
    "draw_observations(actual_x, measurements)\n",
    "plt.show()"
   ]
  },
  {
   "cell_type": "code",
   "execution_count": null,
   "metadata": {
    "collapsed": true
   },
   "outputs": [],
   "source": []
  }
 ],
 "metadata": {
  "kernelspec": {
   "display_name": "py36",
   "language": "python",
   "name": "py36"
  },
  "language_info": {
   "codemirror_mode": {
    "name": "ipython",
    "version": 3
   },
   "file_extension": ".py",
   "mimetype": "text/x-python",
   "name": "python",
   "nbconvert_exporter": "python",
   "pygments_lexer": "ipython3",
   "version": "3.6.1"
  }
 },
 "nbformat": 4,
 "nbformat_minor": 2
}
