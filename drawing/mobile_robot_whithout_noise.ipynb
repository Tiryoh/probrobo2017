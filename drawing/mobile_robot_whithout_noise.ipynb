{
 "cells": [
  {
   "cell_type": "markdown",
   "metadata": {},
   "source": [
    "REF : https://github.com/ryuichiueda/probrobo_practice/blob/master/state_equations/no_noise.ipynb"
   ]
  },
  {
   "cell_type": "code",
   "execution_count": 1,
   "metadata": {
    "collapsed": true
   },
   "outputs": [],
   "source": [
    "import numpy as np\n",
    "import math\n",
    "import matplotlib.pyplot as plt\n",
    "\n",
    "from matplotlib import animation\n",
    "from IPython.display import HTML"
   ]
  },
  {
   "cell_type": "code",
   "execution_count": 2,
   "metadata": {
    "collapsed": true
   },
   "outputs": [],
   "source": [
    "X0 = np.array([0, 0, 0])\n",
    "u = np.array([0.1, np.deg2rad(30)])\n",
    "\n",
    "def f(x_old, u):\n",
    "    pos_x, pos_y, pos_th = x_old\n",
    "    l, omega = u\n",
    "    pos_x += l * math.cos(pos_th)\n",
    "    pos_y += l * math.sin(pos_th)\n",
    "    pos_th += omega\n",
    "    return np.array([pos_x, pos_y, pos_th])"
   ]
  },
  {
   "cell_type": "code",
   "execution_count": 3,
   "metadata": {},
   "outputs": [
    {
     "name": "stdout",
     "output_type": "stream",
     "text": [
      "[0 0 0]\n"
     ]
    }
   ],
   "source": [
    "print(X0)"
   ]
  },
  {
   "cell_type": "code",
   "execution_count": 4,
   "metadata": {},
   "outputs": [
    {
     "name": "stdout",
     "output_type": "stream",
     "text": [
      "[ 0.1         0.          0.52359878]\n"
     ]
    }
   ],
   "source": [
    "X1 = f(X0,u)\n",
    "print(X1)"
   ]
  },
  {
   "cell_type": "code",
   "execution_count": 5,
   "metadata": {},
   "outputs": [
    {
     "name": "stdout",
     "output_type": "stream",
     "text": [
      "[ 0.18660254  0.05        1.04719755]\n"
     ]
    }
   ],
   "source": [
    "X2 = f(X1,u)\n",
    "print(X2)"
   ]
  },
  {
   "cell_type": "code",
   "execution_count": 6,
   "metadata": {},
   "outputs": [
    {
     "name": "stdout",
     "output_type": "stream",
     "text": [
      "[array([0, 0, 0]), array([ 0.1       ,  0.        ,  0.52359878]), array([ 0.18660254,  0.05      ,  1.04719755]), array([ 0.23660254,  0.13660254,  1.57079633]), array([ 0.23660254,  0.23660254,  2.0943951 ]), array([ 0.18660254,  0.32320508,  2.61799388]), array([ 0.1       ,  0.37320508,  3.14159265]), array([  4.16333634e-17,   3.73205081e-01,   3.66519143e+00]), array([-0.08660254,  0.32320508,  4.1887902 ]), array([-0.13660254,  0.23660254,  4.71238898]), array([-0.13660254,  0.13660254,  5.23598776])]\n"
     ]
    },
    {
     "data": {
      "image/png": "[encoded data removed]",
      "text/plain": [
       "<matplotlib.figure.Figure at 0x109356eb8>"
      ]
     },
     "metadata": {},
     "output_type": "display_data"
    }
   ],
   "source": [
    "# タイトル付き新規ウィンドウ、座標軸を用意\n",
    "fig = plt.figure(figsize=(8, 8))\n",
    "plt.title(\"Mobile Robot\")\n",
    "world = fig.add_subplot(1,1,1)\n",
    "world.set_xlim(-1.0,1.0)\n",
    "world.set_ylim(-0.5,1.5)\n",
    "\n",
    "history = [X0]\n",
    "X = X0\n",
    "\n",
    "for i in range(10):\n",
    "    X = f(X, u)\n",
    "    history.append(X)\n",
    "\n",
    "print(history)\n",
    "\n",
    "xs = [e[0] for e in history]\n",
    "ys = [e[1] for e in history]\n",
    "vxs = [math.cos(e[2]) for e in history]\n",
    "vys = [math.sin(e[2]) for e in history]\n",
    "\n",
    "world.quiver(xs,ys,vxs,vys,color=\"red\",label=\"actual robot motion\")\n",
    "\n",
    "# 左上に凡例を追加\n",
    "world.legend(loc='upper left')\n",
    "\n",
    "# 現在の状態を確認\n",
    "plt.show()"
   ]
  },
  {
   "cell_type": "code",
   "execution_count": null,
   "metadata": {
    "collapsed": true
   },
   "outputs": [],
   "source": []
  }
 ],
 "metadata": {
  "kernelspec": {
   "display_name": "py36",
   "language": "python",
   "name": "py36"
  },
  "language_info": {
   "codemirror_mode": {
    "name": "ipython",
    "version": 3
   },
   "file_extension": ".py",
   "mimetype": "text/x-python",
   "name": "python",
   "nbconvert_exporter": "python",
   "pygments_lexer": "ipython3",
   "version": "3.6.1"
  }
 },
 "nbformat": 4,
 "nbformat_minor": 2
}
