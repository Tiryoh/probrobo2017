{
 "cells": [
  {
   "cell_type": "code",
   "execution_count": 1,
   "metadata": {
    "collapsed": true
   },
   "outputs": [],
   "source": [
    "%matplotlib inline\n",
    "import numpy as np\n",
    "import math\n",
    "import matplotlib.pyplot as plt\n",
    "import matplotlib.mlab as mlab"
   ]
  },
  {
   "cell_type": "code",
   "execution_count": 2,
   "metadata": {
    "collapsed": true
   },
   "outputs": [],
   "source": [
    "mean = [0.0,1.0]\n",
    "cov = [[1.0,0.5],\n",
    "       [0.5,1.0]]"
   ]
  },
  {
   "cell_type": "code",
   "execution_count": 3,
   "metadata": {},
   "outputs": [],
   "source": [
    "x_axis = np.linspace(-5, 5, 100)  #-5から5まで100刻みでリストを作る\n",
    "y_axis = np.linspace(-5, 5, 100)\n",
    "X, Y = np.meshgrid(x_axis,y_axis) #x_axisとy_axisから平面上の格子を作る\n",
    "\n",
    "###bivariate_normal: 二次元のガウス分布の値を格子に対して求めるメソッド###\n",
    "Z = mlab.bivariate_normal(X, Y, # 格子の座標\n",
    "                          math.sqrt(cov[0][0]),math.sqrt(cov[1][1]),# x,yの標準偏差\n",
    "                          mean[0], mean[1], # 平均\n",
    "                          cov[0][1])            # 共分散"
   ]
  },
  {
   "cell_type": "code",
   "execution_count": 4,
   "metadata": {},
   "outputs": [
    {
     "name": "stdout",
     "output_type": "stream",
     "text": [
      "[[  1.94477878e-10   2.52870288e-10   3.24352488e-10 ...,   6.93630256e-27\n",
      "    2.41025817e-27   8.26210921e-28]\n",
      " [  3.09481050e-10   4.05149904e-10   5.23225924e-10 ...,   2.13519682e-26\n",
      "    7.47011919e-27   2.57815475e-27]\n",
      " [  4.85836066e-10   6.40361942e-10   8.32632021e-10 ...,   6.48394967e-26\n",
      "    2.28393287e-26   7.93631447e-27]\n",
      " ..., \n",
      " [  2.24670033e-18   5.65091502e-18   1.40211694e-17 ...,   4.99767460e-07\n",
      "    3.35930581e-07   2.22752681e-07]\n",
      " [  9.55469750e-19   2.41960599e-18   6.04455308e-18 ...,   4.11136278e-07\n",
      "    2.78241206e-07   1.85758600e-07]\n",
      " [  4.00848783e-19   1.02202698e-18   2.57060879e-18 ...,   3.33653326e-07\n",
      "    2.27344885e-07   1.52815270e-07]]\n"
     ]
    }
   ],
   "source": [
    "print(Z)"
   ]
  },
  {
   "cell_type": "code",
   "execution_count": 5,
   "metadata": {},
   "outputs": [
    {
     "data": {
      "image/png": "[encoded data removed]",
      "text/plain": [
       "<matplotlib.figure.Figure at 0x10bed55f8>"
      ]
     },
     "metadata": {},
     "output_type": "display_data"
    }
   ],
   "source": [
    "plt.contour(X, Y, Z)\n",
    "plt.axis(\"equal\")\n",
    "plt.show()"
   ]
  },
  {
   "cell_type": "code",
   "execution_count": 6,
   "metadata": {
    "collapsed": true
   },
   "outputs": [],
   "source": [
    "from matplotlib.patches import Ellipse"
   ]
  },
  {
   "cell_type": "code",
   "execution_count": 7,
   "metadata": {
    "collapsed": true
   },
   "outputs": [],
   "source": [
    "class Gaussian2D():\n",
    "    def __init__(self, mean, cov):\n",
    "        self.mean = mean\n",
    "        self.cov = cov\n",
    "    def value(self, x, y):\n",
    "        pos = np.array([[x],[y]])\n",
    "        delta = pos - self.mean\n",
    "        numerator = math.exp(-0.5 * (delta.T).dot(np.linalg.inv(self.cov)).dot(delta))\n",
    "        denominator = 2 * math.pi * math.sqrt(np.linalg.det(self.cov))\n",
    "        return numerator / denominator\n",
    "    def shift(self, delta, angle):\n",
    "        ca = math.cos(angle)\n",
    "        sa = math.sin(angle)\n",
    "        rot = np.array([[ca,-sa],[sa,ca]])\n",
    "        \n",
    "        self.cov = rot.dot(self.cov).dot(rot.T) #共分散行列を回転行列で挟む\n",
    "        self.mean = self.mean + delta\n",
    "    def ellipse(self, color='blue'):\n",
    "        eig_vals,eig_vec = np.linalg.eig(self.cov)\n",
    "        \n",
    "        v1 = eig_vals[0] * eig_vec[:,0]\n",
    "        v2 = eig_vals[1] * eig_vec[:,1]\n",
    "        v1_direction = math.atan2(v1[1],v1[0])\n",
    "        \n",
    "        e = Ellipse(self.mean,width=np.linalg.norm(v1),height=np.linalg.norm(v2),angle=v1_direction/math.pi*180)\n",
    "        e.set_facecolor(color)\n",
    "        e.set_alpha(0.2)\n",
    "        \n",
    "        return e"
   ]
  },
  {
   "cell_type": "code",
   "execution_count": 8,
   "metadata": {},
   "outputs": [
    {
     "data": {
      "image/png": "[encoded data removed]",
      "text/plain": [
       "<matplotlib.figure.Figure at 0x10f28e940>"
      ]
     },
     "metadata": {},
     "output_type": "display_data"
    }
   ],
   "source": [
    "p = Gaussian2D(np.array([[1.0],[3.0]]),\n",
    "               np.array([[1.0,0.5],\n",
    "                         [0.5,1.0]]))\n",
    "\n",
    "fig = plt.figure(0)\n",
    "sp = fig.add_subplot(111, aspect='equal')\n",
    "plt.xlim(0,5)\n",
    "plt.ylim(0,5)\n",
    "sp.add_artist(p.ellipse())\n",
    "plt.show()"
   ]
  },
  {
   "cell_type": "code",
   "execution_count": 9,
   "metadata": {},
   "outputs": [
    {
     "data": {
      "image/png": "[encoded data removed]",
      "text/plain": [
       "<matplotlib.figure.Figure at 0x10b482c88>"
      ]
     },
     "metadata": {},
     "output_type": "display_data"
    }
   ],
   "source": [
    "p.shift(np.array([[1.0],[0.0]]),math.radians(40))\n",
    "fig = plt.figure(0)\n",
    "sp = fig.add_subplot(111, aspect='equal')\n",
    "\n",
    "plt.xlim(0,5)\n",
    "plt.ylim(0,5)\n",
    "sp.add_artist(p.ellipse())\n",
    "plt.show()"
   ]
  },
  {
   "cell_type": "code",
   "execution_count": 10,
   "metadata": {},
   "outputs": [
    {
     "data": {
      "text/plain": [
       "<matplotlib.contour.QuadContourSet at 0x11145f080>"
      ]
     },
     "execution_count": 10,
     "metadata": {},
     "output_type": "execute_result"
    },
    {
     "data": {
      "image/png": "[encoded data removed]",
      "text/plain": [
       "<matplotlib.figure.Figure at 0x10f50e898>"
      ]
     },
     "metadata": {},
     "output_type": "display_data"
    }
   ],
   "source": [
    "from scipy.stats import multivariate_normal\n",
    "\n",
    "rv = multivariate_normal([0.5, -0.2], [[2.0, 0.3], [0.3, 0.5]]) #rv : random variable 確率変数\n",
    "\n",
    "x, y = np.mgrid[-1:1:.01, -1:1:.01]\n",
    "pos = np.empty(x.shape + (2,))\n",
    "pos[:, :, 0] = x; pos[:, :, 1] = y\n",
    "plt.contourf(x, y, rv.pdf(pos))"
   ]
  },
  {
   "cell_type": "code",
   "execution_count": null,
   "metadata": {
    "collapsed": true
   },
   "outputs": [],
   "source": []
  }
 ],
 "metadata": {
  "kernelspec": {
   "display_name": "py36",
   "language": "python",
   "name": "py36"
  },
  "language_info": {
   "codemirror_mode": {
    "name": "ipython",
    "version": 3
   },
   "file_extension": ".py",
   "mimetype": "text/x-python",
   "name": "python",
   "nbconvert_exporter": "python",
   "pygments_lexer": "ipython3",
   "version": "3.6.1"
  }
 },
 "nbformat": 4,
 "nbformat_minor": 2
}
