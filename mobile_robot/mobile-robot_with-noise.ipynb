{
 "cells": [
  {
   "cell_type": "markdown",
   "metadata": {},
   "source": [
    "REF : https://github.com/ryuichiueda/probrobo_practice/blob/master/state_equations/with_noise.ipynb"
   ]
  },
  {
   "cell_type": "code",
   "execution_count": 1,
   "metadata": {
    "collapsed": true
   },
   "outputs": [],
   "source": [
    "import numpy as np\n",
    "import math\n",
    "import random\n",
    "import matplotlib.pyplot as plt\n",
    "\n",
    "from matplotlib import animation\n",
    "from IPython.display import HTML"
   ]
  },
  {
   "cell_type": "code",
   "execution_count": 2,
   "metadata": {
    "collapsed": true
   },
   "outputs": [],
   "source": [
    "X0 = np.array([0, 0, 0])\n",
    "u = np.array([0.1, np.deg2rad(30)])\n",
    "\n",
    "def f(x_old, u):\n",
    "    pos_x, pos_y, pos_th = x_old\n",
    "    pure_l, pure_omega = u\n",
    "    l = random.gauss(pure_l, pure_l/10)\n",
    "    pos_th = random.gauss(pos_th, np.deg2rad(3))\n",
    "    omega = random.gauss(pure_omega, pure_omega/10)\n",
    "    pos_x += l * math.cos(pos_th)\n",
    "    pos_y += l * math.sin(pos_th)\n",
    "    pos_th += omega\n",
    "    return np.array([pos_x, pos_y, pos_th])"
   ]
  },
  {
   "cell_type": "code",
   "execution_count": 3,
   "metadata": {},
   "outputs": [
    {
     "name": "stdout",
     "output_type": "stream",
     "text": [
      "[0 0 0]\n"
     ]
    }
   ],
   "source": [
    "print(X0)"
   ]
  },
  {
   "cell_type": "code",
   "execution_count": 4,
   "metadata": {},
   "outputs": [
    {
     "name": "stdout",
     "output_type": "stream",
     "text": [
      "[ 0.1055202  -0.00652291  0.48948463]\n"
     ]
    }
   ],
   "source": [
    "X1 = f(X0,u)\n",
    "print(X1)"
   ]
  },
  {
   "cell_type": "code",
   "execution_count": 5,
   "metadata": {},
   "outputs": [
    {
     "name": "stdout",
     "output_type": "stream",
     "text": [
      "[ 0.18578239  0.0311847   0.94281902]\n"
     ]
    }
   ],
   "source": [
    "X2 = f(X1,u)\n",
    "print(X2)"
   ]
  },
  {
   "cell_type": "code",
   "execution_count": 6,
   "metadata": {},
   "outputs": [
    {
     "name": "stdout",
     "output_type": "stream",
     "text": [
      "[array([0, 0, 0]), array([ 0.10843164,  0.00632795,  0.6451116 ]), array([ 0.17219223,  0.05798056,  1.14102819]), array([ 0.2187328 ,  0.15934864,  1.57128924]), array([ 0.22276219,  0.27757228,  2.10034531]), array([ 0.1719441 ,  0.3631308 ,  2.76983204]), array([ 0.08767542,  0.39424223,  3.41201457]), array([-0.01534338,  0.36886284,  3.92872597]), array([-0.07670313,  0.3057139 ,  4.43578991]), array([-0.09903497,  0.20845746,  4.97653791]), array([-0.07417847,  0.12028412,  5.3783497 ])]\n"
     ]
    },
    {
     "data": {
      "image/png": "[encoded data removed]",
      "text/plain": [
       "<matplotlib.figure.Figure at 0x10d259eb8>"
      ]
     },
     "metadata": {},
     "output_type": "display_data"
    }
   ],
   "source": [
    "# タイトル付き新規ウィンドウ、座標軸を用意\n",
    "fig = plt.figure(figsize=(8, 8))\n",
    "plt.title(\"Mobile Robot\")\n",
    "world = fig.add_subplot(1,1,1)\n",
    "world.set_xlim(-1.0,1.0)\n",
    "world.set_ylim(-0.5,1.5)\n",
    "\n",
    "history = [X0]\n",
    "X = X0\n",
    "\n",
    "for i in range(10):\n",
    "    X = f(X, u)\n",
    "    history.append(X)\n",
    "\n",
    "print(history)\n",
    "\n",
    "xs = [e[0] for e in history]\n",
    "ys = [e[1] for e in history]\n",
    "vxs = [math.cos(e[2]) for e in history]\n",
    "vys = [math.sin(e[2]) for e in history]\n",
    "\n",
    "world.quiver(xs,ys,vxs,vys,color=\"red\",label=\"actual robot motion\")\n",
    "\n",
    "# 左上に凡例を追加\n",
    "world.legend(loc='upper left')\n",
    "\n",
    "# 現在の状態を確認\n",
    "plt.show()"
   ]
  },
  {
   "cell_type": "code",
   "execution_count": null,
   "metadata": {
    "collapsed": true
   },
   "outputs": [],
   "source": []
  }
 ],
 "metadata": {
  "kernelspec": {
   "display_name": "py36",
   "language": "python",
   "name": "py36"
  },
  "language_info": {
   "codemirror_mode": {
    "name": "ipython",
    "version": 3
   },
   "file_extension": ".py",
   "mimetype": "text/x-python",
   "name": "python",
   "nbconvert_exporter": "python",
   "pygments_lexer": "ipython3",
   "version": "3.6.1"
  }
 },
 "nbformat": 4,
 "nbformat_minor": 2
}
