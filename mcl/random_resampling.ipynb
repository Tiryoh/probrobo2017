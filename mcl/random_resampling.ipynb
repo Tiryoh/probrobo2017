{
 "cells": [
  {
   "cell_type": "markdown",
   "metadata": {},
   "source": [
    "REF : https://github.com/ryuichiueda/probrobo2017/blob/master/05.ipynb"
   ]
  },
  {
   "cell_type": "code",
   "execution_count": 1,
   "metadata": {
    "collapsed": true
   },
   "outputs": [],
   "source": [
    "import random\n",
    "import math\n",
    "import numpy as np\n",
    "from matplotlib import pyplot as plt\n",
    "from pprint import pprint\n",
    "import copy"
   ]
  },
  {
   "cell_type": "code",
   "execution_count": 2,
   "metadata": {
    "collapsed": true
   },
   "outputs": [],
   "source": [
    "class Particle:\n",
    "    def __init__(self, p, w):\n",
    "        self.pose = np.array(p)\n",
    "        self.weight = w\n",
    "    \n",
    "    def __repr__(self):\n",
    "        return \"pose: \" + str(self.pose) + \" weight: \" + str(self.weight)"
   ]
  },
  {
   "cell_type": "code",
   "execution_count": 3,
   "metadata": {},
   "outputs": [],
   "source": [
    "particles = [Particle([1.0, 0.0, 0.0], 0.1),\n",
    "            Particle([2.0, 0.0, 0.0], 0.5),\n",
    "            Particle([3.0, 0.0, 0.0], 0.1),\n",
    "            Particle([4.0, 0.0, 0.0], 0.1),\n",
    "            Particle([3.0, 0.0, 0.0], 0.2),]"
   ]
  },
  {
   "cell_type": "code",
   "execution_count": 4,
   "metadata": {},
   "outputs": [
    {
     "name": "stdout",
     "output_type": "stream",
     "text": [
      "[pose: [ 1.  0.  0.] weight: 0.1,\n",
      " pose: [ 2.  0.  0.] weight: 0.5,\n",
      " pose: [ 3.  0.  0.] weight: 0.1,\n",
      " pose: [ 4.  0.  0.] weight: 0.1,\n",
      " pose: [ 3.  0.  0.] weight: 0.2]\n"
     ]
    }
   ],
   "source": [
    "pprint(particles)"
   ]
  },
  {
   "cell_type": "code",
   "execution_count": 5,
   "metadata": {},
   "outputs": [
    {
     "name": "stdout",
     "output_type": "stream",
     "text": [
      "[0.1, 0.6, 0.7, 0.7999999999999999, 1.0] 1.0\n"
     ]
    }
   ],
   "source": [
    "accum = []\n",
    "sm = 0.0\n",
    "\n",
    "for p in particles:\n",
    "    accum.append(p.weight + sm)\n",
    "    sm += p.weight\n",
    "    \n",
    "print(accum, sm)"
   ]
  },
  {
   "cell_type": "code",
   "execution_count": 6,
   "metadata": {},
   "outputs": [
    {
     "name": "stdout",
     "output_type": "stream",
     "text": [
      "0.06540338433673147\n"
     ]
    }
   ],
   "source": [
    "pointer = random.uniform(0.0, 1.0/len(particles))\n",
    "print(pointer)"
   ]
  },
  {
   "cell_type": "code",
   "execution_count": 7,
   "metadata": {},
   "outputs": [],
   "source": [
    "new_particles = []\n",
    "particles_num = len(particles)\n",
    "\n",
    "while pointer < 1.0:\n",
    "    if accum[0] >= pointer:\n",
    "        new_particles.append(Particle(copy.deepcopy(particles[0].pose), 1.0/particles_num))\n",
    "        pointer += 1.0/particles_num\n",
    "    else:\n",
    "        accum.pop(0)\n",
    "        particles.pop(0)\n",
    "\n",
    "particles = new_particles"
   ]
  },
  {
   "cell_type": "code",
   "execution_count": 8,
   "metadata": {},
   "outputs": [
    {
     "name": "stdout",
     "output_type": "stream",
     "text": [
      "[pose: [ 1.  0.  0.] weight: 0.2,\n",
      " pose: [ 2.  0.  0.] weight: 0.2,\n",
      " pose: [ 2.  0.  0.] weight: 0.2,\n",
      " pose: [ 3.  0.  0.] weight: 0.2,\n",
      " pose: [ 3.  0.  0.] weight: 0.2]\n"
     ]
    }
   ],
   "source": [
    "pprint(particles)"
   ]
  },
  {
   "cell_type": "code",
   "execution_count": null,
   "metadata": {
    "collapsed": true
   },
   "outputs": [],
   "source": []
  }
 ],
 "metadata": {
  "kernelspec": {
   "display_name": "py36",
   "language": "python",
   "name": "py36"
  },
  "language_info": {
   "codemirror_mode": {
    "name": "ipython",
    "version": 3
   },
   "file_extension": ".py",
   "mimetype": "text/x-python",
   "name": "python",
   "nbconvert_exporter": "python",
   "pygments_lexer": "ipython3",
   "version": "3.6.1"
  }
 },
 "nbformat": 4,
 "nbformat_minor": 2
}
